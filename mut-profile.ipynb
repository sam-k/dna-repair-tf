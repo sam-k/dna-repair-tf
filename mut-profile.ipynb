{
 "cells": [
  {
   "cell_type": "code",
   "execution_count": null,
   "metadata": {},
   "outputs": [],
   "source": [
    "import matplotlib, os\n",
    "os.environ[\"QT_QPA_PLATFORM\"] = \"offscreen\"\n",
    "matplotlib.use(\"agg\")\n",
    "\n",
    "import collections, sys\n",
    "from matplotlib import pyplot as plt\n",
    "from matplotlib import gridspec as gs"
   ]
  },
  {
   "cell_type": "code",
   "execution_count": null,
   "metadata": {},
   "outputs": [],
   "source": [
    "WORKSPACE = \"/data/gordanlab/samkim/dna-repair-tf\"\n",
    "RUN_ID = \"proximal-DHS_mergedbg\"  # run ID\n",
    "WHICH_DATA = \"small_dhs\"  # data group name\n",
    "SUFFIX = \"pro\"\n",
    "# suffix to filename (currently only for merged and merged-bg)"
   ]
  },
  {
   "cell_type": "code",
   "execution_count": null,
   "metadata": {},
   "outputs": [],
   "source": [
    "### Get mutation counts per position, and per position per TF ###\n",
    "def get_dists(mut_dataset_name=None, suffix=None):\n",
    "    if mut_dataset_name is None:\n",
    "        return {}, {}\n",
    "    \n",
    "    mut_list = []\n",
    "    with open(\n",
    "        \"{}/data/ssm.open.{}_{}{}_centered.bed\".format(\n",
    "            WORKSPACE, RUN_ID, mut_dataset_name, \"_\" + suffix if suffix is not None else \"\"\n",
    "        )\n",
    "    ) as f:\n",
    "        for line in f:\n",
    "            _, dist, _, mut, tf = line.strip().split()\n",
    "            mut_list.append((int(dist), mut, tf))\n",
    "\n",
    "    counts = collections.defaultdict(int)\n",
    "    for dist, _, _ in mut_list:\n",
    "        counts[dist] += 1\n",
    "\n",
    "    counts_by_tf = {}\n",
    "    for dist, mut, tf in mut_list:\n",
    "        if tf not in counts_by_tf:\n",
    "            counts_by_tf[tf] = collections.defaultdict(int)  # initialize\n",
    "        counts_by_tf[tf][dist] += 1\n",
    "\n",
    "    return counts, counts_by_tf"
   ]
  },
  {
   "cell_type": "code",
   "execution_count": null,
   "metadata": {},
   "outputs": [],
   "source": [
    "### Create mutation profile plots ###\n",
    "def plot_dists(\n",
    "    counts,\n",
    "    counts_by_tf,\n",
    "    counts_2=None,\n",
    "    counts_2_by_tf=None,\n",
    "    name=None,\n",
    "    figsize=(10, 14),\n",
    "    h1=0.2,\n",
    "    h2=0.6,\n",
    "    w2=0.5,\n",
    "    save_fig=False,\n",
    "):\n",
    "    fig = plt.figure(figsize=figsize)\n",
    "    plt.subplots_adjust(hspace=h1)\n",
    "    outer = gs.GridSpec(2, 1, height_ratios=[2, 5])\n",
    "    gs1 = gs.GridSpecFromSubplotSpec(1, 6, subplot_spec=outer[0])\n",
    "    gs2 = gs.GridSpecFromSubplotSpec(5, 6, subplot_spec=outer[1], hspace=h2, wspace=w2)\n",
    "\n",
    "    # Create large graph of all TFs\n",
    "    ax1 = plt.subplot(gs1[:, 1:-1])\n",
    "    \n",
    "    # Default, or bound DHS\n",
    "    X1 = sorted([int(dist) for dist in counts.keys()])\n",
    "    y1 = [counts[dist] for dist in X1]\n",
    "    ax1.plot(X1, y1)\n",
    "    \n",
    "    # Unbound DHS\n",
    "    if counts_2 is not None and counts_2_by_tf is not None:\n",
    "        X1_2 = sorted([int(dist) for dist in counts_2.keys()])\n",
    "        y1_2 = [counts_2[dist] for dist in X1_2]\n",
    "        ax1.plot(X1_2, y1_2)\n",
    "    \n",
    "    # Style large graph\n",
    "    ax1.set_xlim(-1000, 1000)\n",
    "    ax1.set_ylim(0, None)\n",
    "    ax1.set_xlabel(\"Distance from TFBS center (bp)\")\n",
    "    ax1.set_ylabel(\"Number of mutations\")\n",
    "    if name is None:\n",
    "        ax1.set_title(\"Mutation profile for all TFs\")\n",
    "    else:\n",
    "        ax1.set_title(\"{} mutation profile for all TFs\".format(name))\n",
    "    \n",
    "    # Create small graphs of every TF\n",
    "    ordered_counts = sorted(\n",
    "        counts_by_tf.items(), key=lambda t: sum(t[1].values()), reverse=True\n",
    "    )\n",
    "    row, col = 0, 0\n",
    "    for tf, tf_counts in ordered_counts:\n",
    "        ax2 = plt.subplot(gs2[row, col])\n",
    "        \n",
    "        # Default, or bound DHS\n",
    "        X2 = sorted([int(dist) for dist in tf_counts.keys()])\n",
    "        y2 = [tf_counts[dist] for dist in X2]\n",
    "        ax2.plot(X2, y2)\n",
    "        \n",
    "        # Unbound DHS\n",
    "        if counts_2 is not None and counts_2_by_tf is not None and tf in counts_2_by_tf:\n",
    "            X2_2 = sorted([int(dist) for dist in counts_2_by_tf[tf].keys()])\n",
    "            y2_2 = [counts_2_by_tf[tf][dist] for dist in X2_2]\n",
    "            ax2.plot(X2_2, y2_2)\n",
    "        \n",
    "        # Style small graph\n",
    "        ax2.set_xlim(-1000, 1000)\n",
    "        ax2.set_ylim(0)\n",
    "        ax2.set_title(tf)\n",
    "        if not ax2.is_last_row():\n",
    "            plt.setp(ax2.get_xticklabels(), visible=False)\n",
    "        if not ax2.is_first_col():\n",
    "            plt.setp(ax2.get_yticklabels(), visible=False)\n",
    "\n",
    "        col += 1\n",
    "        if col >= 6:\n",
    "            row += 1\n",
    "            col = 0\n",
    "        if row >= 5:\n",
    "            break\n",
    "    \n",
    "    # Save figure\n",
    "    if save_fig:\n",
    "        fig.savefig(\n",
    "            \"{}/figures/temp/{}_{}{}.png\".format(WORKSPACE, RUN_ID, name, SUFFIX)\n",
    "            .replace(\"proximal\", \"prox\")\n",
    "            .replace(\"distal\", \"dist\")\n",
    "            .replace(\"DHS_\", \"DHS-\"),\n",
    "            dpi=\"figure\",\n",
    "            transparent=True,\n",
    "            bbox_inches=\"tight\",\n",
    "            pad_inches=0,\n",
    "        )\n",
    "    else:\n",
    "        plt.show()"
   ]
  },
  {
   "cell_type": "code",
   "execution_count": null,
   "metadata": {},
   "outputs": [],
   "source": [
    "### Actually run the datasets ###\n",
    "if WHICH_DATA == \"all\":\n",
    "    # All cancers\n",
    "    all_names = [\"BLCA\", \"BRCA\", \"COAD\", \"COCA\", \"HNSC\", \"LUAD\", \"LUSC\", \"MELA\", \"READ\", \"SKCA\", \"SKCM\"]\n",
    "elif WHICH_DATA == \"dhs\":\n",
    "    # Only cancers with DHS data\n",
    "    all_names = [\"BRCA\", \"COAD\", \"COCA\", \"LUAD\", \"LUSC\", \"MELA\", \"READ\", \"SKCA\", \"SKCM\"]\n",
    "elif WHICH_DATA == \"skcm\":\n",
    "    # Only skin cancers\n",
    "    all_names = [\"MELA\", \"SKCA\", \"SKCM\"]\n",
    "elif WHICH_DATA == \"small\":\n",
    "    # Only small (<1 GB) cancers\n",
    "    all_names = [\"BLCA\", \"COAD\", \"HNSC\", \"LUAD\", \"READ\"]\n",
    "elif WHICH_DATA == \"small_dhs\":\n",
    "    # Only small (<1 GB) cancers with DHS data\n",
    "    all_names = [\"COAD\", \"LUAD\", \"READ\"]\n",
    "else:\n",
    "    # Individual cancer types\n",
    "    all_names = [WHICH_DATA]"
   ]
  },
  {
   "cell_type": "code",
   "execution_count": null,
   "metadata": {},
   "outputs": [],
   "source": [
    "all_counts = {}\n",
    "all_counts_by_tf = {}\n",
    "all_counts_2 = {}\n",
    "all_counts_2_by_tf = {}\n",
    "name_index = 0\n",
    "\n",
    "def make_next_plot(name_index):\n",
    "    if name_index >= len(all_names):\n",
    "        return\n",
    "    \n",
    "    name = all_names[name_index]\n",
    "    all_counts[name], all_counts_by_tf[name] = get_dists(\n",
    "        name, SUFFIX + \"_bound\" if RUN_ID.endswith(\"mergedbg\") else None\n",
    "    )\n",
    "    all_counts_2[name], all_counts_2_by_tf[name] = get_dists(\n",
    "        name if RUN_ID.endswith(\"mergedbg\") else None, SUFFIX + \"_unbound\"\n",
    "    )\n",
    "    plot_dists(all_counts[name], all_counts_by_tf[name], all_counts_2[name], all_counts_2_by_tf[name], name)"
   ]
  },
  {
   "cell_type": "code",
   "execution_count": null,
   "metadata": {},
   "outputs": [],
   "source": [
    "%matplotlib inline\n",
    "\n",
    "make_next_plot(name_index)\n",
    "name_index += 1"
   ]
  },
  {
   "cell_type": "code",
   "execution_count": null,
   "metadata": {},
   "outputs": [],
   "source": [
    "%matplotlib inline\n",
    "\n",
    "make_next_plot(name_index)\n",
    "name_index += 1"
   ]
  },
  {
   "cell_type": "code",
   "execution_count": null,
   "metadata": {},
   "outputs": [],
   "source": [
    "%matplotlib inline\n",
    "\n",
    "make_next_plot(name_index)\n",
    "name_index += 1"
   ]
  },
  {
   "cell_type": "code",
   "execution_count": null,
   "metadata": {},
   "outputs": [],
   "source": [
    "%matplotlib inline\n",
    "\n",
    "make_next_plot(name_index)\n",
    "name_index += 1"
   ]
  },
  {
   "cell_type": "code",
   "execution_count": null,
   "metadata": {},
   "outputs": [],
   "source": [
    "%matplotlib inline\n",
    "\n",
    "make_next_plot(name_index)\n",
    "name_index += 1"
   ]
  },
  {
   "cell_type": "code",
   "execution_count": null,
   "metadata": {},
   "outputs": [],
   "source": [
    "%matplotlib inline\n",
    "\n",
    "make_next_plot(name_index)\n",
    "name_index += 1"
   ]
  },
  {
   "cell_type": "code",
   "execution_count": null,
   "metadata": {},
   "outputs": [],
   "source": [
    "%matplotlib inline\n",
    "\n",
    "make_next_plot(name_index)\n",
    "name_index += 1"
   ]
  },
  {
   "cell_type": "code",
   "execution_count": null,
   "metadata": {},
   "outputs": [],
   "source": [
    "%matplotlib inline\n",
    "\n",
    "make_next_plot(name_index)\n",
    "name_index += 1"
   ]
  },
  {
   "cell_type": "code",
   "execution_count": null,
   "metadata": {},
   "outputs": [],
   "source": [
    "%matplotlib inline\n",
    "\n",
    "make_next_plot(name_index)\n",
    "name_index += 1"
   ]
  },
  {
   "cell_type": "code",
   "execution_count": null,
   "metadata": {},
   "outputs": [],
   "source": [
    "%matplotlib inline\n",
    "\n",
    "make_next_plot(name_index)\n",
    "name_index += 1"
   ]
  },
  {
   "cell_type": "code",
   "execution_count": null,
   "metadata": {},
   "outputs": [],
   "source": [
    "%matplotlib inline\n",
    "\n",
    "make_next_plot(name_index)\n",
    "name_index += 1"
   ]
  },
  {
   "cell_type": "code",
   "execution_count": null,
   "metadata": {},
   "outputs": [],
   "source": [
    "%matplotlib inline\n",
    "\n",
    "make_next_plot(name_index)\n",
    "name_index += 1"
   ]
  },
  {
   "cell_type": "code",
   "execution_count": null,
   "metadata": {},
   "outputs": [],
   "source": []
  }
 ],
 "metadata": {
  "kernelspec": {
   "display_name": "Python 3",
   "language": "python",
   "name": "python3"
  },
  "language_info": {
   "codemirror_mode": {
    "name": "ipython",
    "version": 3
   },
   "file_extension": ".py",
   "mimetype": "text/x-python",
   "name": "python",
   "nbconvert_exporter": "python",
   "pygments_lexer": "ipython3",
   "version": "3.6.7"
  }
 },
 "nbformat": 4,
 "nbformat_minor": 2
}
