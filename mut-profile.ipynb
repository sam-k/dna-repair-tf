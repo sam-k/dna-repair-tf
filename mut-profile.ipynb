{
 "cells": [
  {
   "cell_type": "code",
   "execution_count": null,
   "metadata": {},
   "outputs": [],
   "source": [
    "import collections\n",
    "from matplotlib import pyplot as plt\n",
    "from matplotlib import gridspec as gs"
   ]
  },
  {
   "cell_type": "code",
   "execution_count": null,
   "metadata": {},
   "outputs": [],
   "source": [
    "WORKSPACE = \"/data/gordanlab/samkim/dna-repair-tf\""
   ]
  },
  {
   "cell_type": "code",
   "execution_count": null,
   "metadata": {},
   "outputs": [],
   "source": [
    "# Run on cluster instead.\n",
    "# import subprocess\n",
    "# subprocess.call([\"{}/all-mut-profile.sh\".format(WORKSPACE)])"
   ]
  },
  {
   "cell_type": "code",
   "execution_count": null,
   "metadata": {},
   "outputs": [],
   "source": [
    "def get_dists(mut_dataset_name, filter_by=\"\", dhs=True):\n",
    "    mut_list = []\n",
    "    with open(\"{}/data/ssm.open.{}{}DHS_{}_centered.bed\".format(\n",
    "              WORKSPACE, filter_by + (\"_\" if filter_by else \"\"), (\"\" if dhs else \"no\"), mut_dataset_name)) as f:\n",
    "        for line in f:\n",
    "            _, dist, _, mut, tf = line.strip().split()\n",
    "            mut_list.append((int(dist), mut, tf))\n",
    "\n",
    "    counts = collections.defaultdict(int)\n",
    "    for dist, _, _ in mut_list:\n",
    "        counts[dist] += 1\n",
    "\n",
    "    counts_by_tf = {}\n",
    "    for dist, mut, tf in mut_list:\n",
    "        if tf not in counts_by_tf:\n",
    "            counts_by_tf[tf] = collections.defaultdict(int) # initialize\n",
    "        counts_by_tf[tf][dist] += 1\n",
    "    \n",
    "    return counts, counts_by_tf"
   ]
  },
  {
   "cell_type": "code",
   "execution_count": null,
   "metadata": {},
   "outputs": [],
   "source": [
    "def plot_dists_all_tfs(counts, mut_dataset_name=None):\n",
    "    X = sorted([int(dist) for dist in counts.keys()])\n",
    "    y = [counts[dist] for dist in X]\n",
    "    \n",
    "    if len(X) == 0:\n",
    "        print(\"List is empty\")\n",
    "        return\n",
    "    \n",
    "    plt.plot(X, y)\n",
    "    plt.xlim(-1000, 1000)\n",
    "    plt.ylim(0, None)\n",
    "    plt.xlabel(\"Distance from TFBS center (bp)\")\n",
    "    plt.ylabel(\"Number of mutations\")\n",
    "    if mut_dataset_name is None:\n",
    "        plt.title(\"Mutation profile for all TFs\")\n",
    "    else:\n",
    "        plt.title(\"{} mutation profile for all TFs\".format(mut_dataset_name))\n",
    "    plt.show()"
   ]
  },
  {
   "cell_type": "code",
   "execution_count": null,
   "metadata": {},
   "outputs": [],
   "source": [
    "def plot_dists_by_tf(counts_by_tf, mut_dataset_name=None, num_rows=5, num_cols=6):\n",
    "    ordered_counts = sorted(counts_by_tf.items(), key=lambda t: sum(t[1].values()), reverse=True)\n",
    "    \n",
    "    fig, axs = plt.subplots(num_rows, num_cols, figsize=(num_cols*1.5, num_rows*1.5), sharex='col', sharey='row')\n",
    "    row, col = 0, 0\n",
    "    for tf, counts in ordered_counts:\n",
    "        X = sorted([int(dist) for dist in counts.keys()])\n",
    "        y = [counts[dist] for dist in X]\n",
    "        \n",
    "        axs[row, col].plot(X, y)\n",
    "        axs[row, col].set_xlim(-1000, 1000)\n",
    "        axs[row, col].set_ylim(0)\n",
    "        axs[row, col].set_title(tf)\n",
    "        \n",
    "        col += 1\n",
    "        if col >= num_cols:\n",
    "            row += 1\n",
    "            col = 0\n",
    "        if row >= num_rows:\n",
    "            break\n",
    "    \n",
    "    plt.tight_layout()\n",
    "    plt.show()"
   ]
  },
  {
   "cell_type": "code",
   "execution_count": null,
   "metadata": {},
   "outputs": [],
   "source": [
    "def plot_dists(counts, counts_by_tf, mut_dataset_name=None, figsize=(10, 14), h1=0.2, h2=0.6, w2=0.5):\n",
    "    plt.figure(figsize=figsize)\n",
    "    plt.subplots_adjust(hspace=h1)\n",
    "    outer = gs.GridSpec(2, 1, height_ratios=[2, 5])\n",
    "    gs1 = gs.GridSpecFromSubplotSpec(1, 6, subplot_spec=outer[0])\n",
    "    gs2 = gs.GridSpecFromSubplotSpec(5, 6, subplot_spec=outer[1], hspace=h2, wspace=w2)\n",
    "    \n",
    "    X1 = sorted([int(dist) for dist in counts.keys()])\n",
    "    y1 = [counts[dist] for dist in X1]\n",
    "    \n",
    "    ax1 = plt.subplot(gs1[:, 1:-1])\n",
    "    ax1.plot(X1, y1)\n",
    "    ax1.set_xlim(-1000, 1000)\n",
    "    ax1.set_ylim(0, None)\n",
    "    ax1.set_xlabel(\"Distance from TFBS center (bp)\")\n",
    "    ax1.set_ylabel(\"Number of mutations\")\n",
    "    if mut_dataset_name is None:\n",
    "        ax1.set_title(\"Mutation profile for all TFs\")\n",
    "    else:\n",
    "        ax1.set_title(\"{} mutation profile for all TFs\".format(mut_dataset_name))\n",
    "    \n",
    "    ordered_counts = sorted(counts_by_tf.items(), key=lambda t: sum(t[1].values()), reverse=True)\n",
    "    row, col = 0, 0\n",
    "    for tf, counts in ordered_counts:\n",
    "        X2 = sorted([int(dist) for dist in counts.keys()])\n",
    "        y2 = [counts[dist] for dist in X2]\n",
    "        \n",
    "        ax2 = plt.subplot(gs2[row, col])\n",
    "        ax2.plot(X2, y2)\n",
    "        ax2.set_xlim(-1000, 1000)\n",
    "        ax2.set_ylim(0)\n",
    "        ax2.set_title(tf)\n",
    "        \n",
    "        if not ax2.is_last_row():\n",
    "            plt.setp(ax2.get_xticklabels(), visible=False)\n",
    "        if not ax2.is_first_col():\n",
    "            plt.setp(ax2.get_yticklabels(), visible=False)\n",
    "        \n",
    "        col += 1\n",
    "        if col >= 6:\n",
    "            row += 1\n",
    "            col = 0\n",
    "        if row >= 5:\n",
    "            break\n",
    "    \n",
    "    plt.show()"
   ]
  },
  {
   "cell_type": "code",
   "execution_count": null,
   "metadata": {},
   "outputs": [],
   "source": [
    "def make_plots(all_counts, all_counts_by_tf, all_names, name):\n",
    "    if isinstance(name, int) or name.isnumeric():\n",
    "        if int(name) < len(all_names):\n",
    "            name = all_names[int(name)]\n",
    "        else:\n",
    "            print(\"There are no more datasets.\")\n",
    "            return\n",
    "#     plot_dists_all_tfs(all_counts[name], name)\n",
    "#     plot_dists_by_tf(all_counts_by_tf[name], name)\n",
    "    plot_dists(all_counts[name], all_counts_by_tf[name], name)"
   ]
  },
  {
   "cell_type": "code",
   "execution_count": null,
   "metadata": {},
   "outputs": [],
   "source": [
    "all_names = [\"BLCA\",\"BRCA\",\"COAD\",\"COCA\",\"HNSC\",\"LUAD\",\"LUSC\",\"MELA\",\"SKCA\",\"SKCM\"]\n",
    "\n",
    "all_counts = {}\n",
    "all_counts_by_tf = {}\n",
    "for name in all_names:\n",
    "    all_counts[name], all_counts_by_tf[name] = get_dists(name, \"NC2\")\n",
    "\n",
    "name_index = 0"
   ]
  },
  {
   "cell_type": "code",
   "execution_count": null,
   "metadata": {},
   "outputs": [],
   "source": [
    "%matplotlib inline\n",
    "\n",
    "make_plots(all_counts, all_counts_by_tf, all_names, name_index)\n",
    "name_index += 1"
   ]
  },
  {
   "cell_type": "code",
   "execution_count": null,
   "metadata": {},
   "outputs": [],
   "source": [
    "%matplotlib inline\n",
    "\n",
    "make_plots(all_counts, all_counts_by_tf, all_names, name_index)\n",
    "name_index += 1"
   ]
  },
  {
   "cell_type": "code",
   "execution_count": null,
   "metadata": {},
   "outputs": [],
   "source": [
    "%matplotlib inline\n",
    "\n",
    "make_plots(all_counts, all_counts_by_tf, all_names, name_index)\n",
    "name_index += 1"
   ]
  },
  {
   "cell_type": "code",
   "execution_count": null,
   "metadata": {},
   "outputs": [],
   "source": [
    "%matplotlib inline\n",
    "\n",
    "make_plots(all_counts, all_counts_by_tf, all_names, name_index)\n",
    "name_index += 1"
   ]
  },
  {
   "cell_type": "code",
   "execution_count": null,
   "metadata": {},
   "outputs": [],
   "source": [
    "%matplotlib inline\n",
    "\n",
    "make_plots(all_counts, all_counts_by_tf, all_names, name_index)\n",
    "name_index += 1"
   ]
  },
  {
   "cell_type": "code",
   "execution_count": null,
   "metadata": {},
   "outputs": [],
   "source": [
    "%matplotlib inline\n",
    "\n",
    "make_plots(all_counts, all_counts_by_tf, all_names, name_index)\n",
    "name_index += 1"
   ]
  },
  {
   "cell_type": "code",
   "execution_count": null,
   "metadata": {},
   "outputs": [],
   "source": [
    "%matplotlib inline\n",
    "\n",
    "make_plots(all_counts, all_counts_by_tf, all_names, name_index)\n",
    "name_index += 1"
   ]
  },
  {
   "cell_type": "code",
   "execution_count": null,
   "metadata": {},
   "outputs": [],
   "source": [
    "%matplotlib inline\n",
    "\n",
    "make_plots(all_counts, all_counts_by_tf, all_names, \"MELA\")\n",
    "name_index += 1"
   ]
  },
  {
   "cell_type": "code",
   "execution_count": null,
   "metadata": {},
   "outputs": [],
   "source": [
    "%matplotlib inline\n",
    "\n",
    "make_plots(all_counts, all_counts_by_tf, all_names, \"SKCA\")\n",
    "name_index += 1"
   ]
  },
  {
   "cell_type": "code",
   "execution_count": null,
   "metadata": {},
   "outputs": [],
   "source": [
    "%matplotlib inline\n",
    "\n",
    "make_plots(all_counts, all_counts_by_tf, all_names, name_index)\n",
    "name_index += 1"
   ]
  },
  {
   "cell_type": "code",
   "execution_count": null,
   "metadata": {},
   "outputs": [],
   "source": []
  }
 ],
 "metadata": {
  "kernelspec": {
   "display_name": "Python 3",
   "language": "python",
   "name": "python3"
  },
  "language_info": {
   "codemirror_mode": {
    "name": "ipython",
    "version": 3
   },
   "file_extension": ".py",
   "mimetype": "text/x-python",
   "name": "python",
   "nbconvert_exporter": "python",
   "pygments_lexer": "ipython3",
   "version": "3.6.7"
  }
 },
 "nbformat": 4,
 "nbformat_minor": 2
}
