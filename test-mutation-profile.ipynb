{
 "cells": [
  {
   "cell_type": "code",
   "execution_count": null,
   "outputs": [],
   "source": [
    "import subprocess\n",
    "subprocess.call([\"./clean_data.sh\"])"
   ],
   "metadata": {
    "collapsed": false,
    "pycharm": {
     "name": "#%%\n"
    }
   }
  },
  {
   "cell_type": "code",
   "execution_count": null,
   "outputs": [],
   "source": [
    "import collections\n",
    "\n",
    "mut_list = []\n",
    "with open(\"./data/ssm.open.SKCM-US_intersect.bed\") as f:\n",
    "    for line in f:\n",
    "        _,_,_,_,pos,tf = line.strip().split()\n",
    "        mut_list.append((int(pos), tf))\n",
    "\n",
    "pos_dict = collections.defaultdict(int)\n",
    "for pos, _ in mut_list:\n",
    "    pos_dict[pos] += 1\n",
    "\n",
    "pos_dict_tf = {}\n",
    "for pos, tf in mut_list:\n",
    "    if tf not in pos_dict_tf:\n",
    "        pos_dict_tf[tf] = collections.defaultdict(int)\n",
    "    pos_dict_tf[tf][pos] += 1"
   ],
   "metadata": {
    "collapsed": false,
    "pycharm": {
     "name": "#%%\n"
    }
   }
  },
  {
   "cell_type": "code",
   "execution_count": null,
   "outputs": [],
   "source": [
    "from matplotlib import pyplot as plt\n",
    "\n",
    "X = sorted([int(key) for key in pos_dict.keys()])\n",
    "y = [pos_dict[key] for key in X]\n",
    "\n",
    "plt.plot(X, y)\n",
    "plt.xlim(min(X), max(X))\n",
    "plt.xlabel(\"Distance from TFBS center (bp)\")\n",
    "plt.ylabel(\"Number of mutations\")\n",
    "plt.title(\"Mutation profile for all TFs\")\n",
    "plt.show()"
   ],
   "metadata": {
    "collapsed": false,
    "pycharm": {
     "name": "#%%\n"
    }
   }
  },
  {
   "cell_type": "code",
   "execution_count": null,
   "outputs": [],
   "source": [
    "\n"
   ],
   "metadata": {
    "collapsed": false,
    "pycharm": {
     "name": "#%%\n"
    }
   }
  }
 ],
 "metadata": {
  "kernelspec": {
   "name": "python3",
   "language": "python",
   "display_name": "Python 3"
  },
  "language_info": {
   "codemirror_mode": {
    "name": "ipython",
    "version": 2
   },
   "file_extension": ".py",
   "mimetype": "text/x-python",
   "name": "python",
   "nbconvert_exporter": "python",
   "pygments_lexer": "ipython2",
   "version": "2.7.6"
  },
  "pycharm": {
   "stem_cell": {
    "cell_type": "raw",
    "source": [],
    "metadata": {
     "collapsed": false
    }
   }
  }
 },
 "nbformat": 4,
 "nbformat_minor": 0
}